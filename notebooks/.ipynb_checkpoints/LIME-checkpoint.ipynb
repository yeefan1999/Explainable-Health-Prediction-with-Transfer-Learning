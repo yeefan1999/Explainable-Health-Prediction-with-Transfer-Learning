{
 "cells": [
  {
   "cell_type": "code",
   "execution_count": 1,
   "metadata": {},
   "outputs": [
    {
     "name": "stderr",
     "output_type": "stream",
     "text": [
      "Using TensorFlow backend.\n"
     ]
    }
   ],
   "source": [
    "import os,sys,inspect\n",
    "currentdir = os.path.dirname(os.path.abspath(inspect.getfile(inspect.currentframe())))\n",
    "parentdir = os.path.dirname(currentdir)\n",
    "sys.path.insert(0,parentdir) \n",
    "import keras\n",
    "from keras.preprocessing import image\n",
    "from keras.applications.imagenet_utils import decode_predictions\n",
    "from skimage.io import imread\n",
    "import matplotlib.pyplot as plt\n",
    "%matplotlib inline\n",
    "import numpy as np\n",
    "from transferlearning import *\n",
    "import cv2\n",
    "import lime\n",
    "from lime import lime_image\n",
    "from skimage.segmentation import mark_boundaries\n",
    "from PIL import Image"
   ]
  },
  {
   "cell_type": "code",
   "execution_count": 55,
   "metadata": {},
   "outputs": [],
   "source": [
    "def get_LIME_explanation(img):\n",
    "    \n",
    "    img_name = img.split('/')[-1]\n",
    "    savedir = \"../explanations/\"\n",
    "    savename_img = savedir+img_name+'_explained.jpg'\n",
    "    savename_heatmap = savedir+img_name+'_heatmap.jpg'\n",
    "    \n",
    "    img_ = cv2.imread(img)\n",
    "    img_ = cv2.cvtColor(img_,cv2.COLOR_BGR2RGB)\n",
    "    img_ = tf.image.flip_left_right(img_)\n",
    "    img_ = img_/255\n",
    "    img_ = np.expand_dims(img_,axis=0)\n",
    "    \n",
    "    model = tf.keras.models.load_model(\"../model/face_model\")\n",
    "    explainer = lime_image.LimeImageExplainer()\n",
    "    explanation = explainer.explain_instance(img_[0].astype('double'), model.predict, top_labels=2, hide_color=0, num_samples=100)\n",
    "\n",
    "    temp, mask = explanation.get_image_and_mask(explanation.top_labels[0], positive_only=False, num_features=4, hide_rest=False)\n",
    "    explain_img = mark_boundaries(temp / 2 + 0.5, mask)\n",
    "    ind =  explanation.top_labels[0]\n",
    "\n",
    "    dict_heatmap = dict(explanation.local_exp[ind])\n",
    "    heatmap = np.vectorize(dict_heatmap.get)(explanation.segments) \n",
    "    \n",
    "    im1 = Image.fromarray((explain_img*255).astype(np.uint8))\n",
    "    im1.save(savename_img)\n",
    "    plt.imsave(savename_heatmap,heatmap)\n"
   ]
  },
  {
   "cell_type": "code",
   "execution_count": 56,
   "metadata": {
    "scrolled": false
   },
   "outputs": [
    {
     "data": {
      "application/vnd.jupyter.widget-view+json": {
       "model_id": "a22b8577536f46438ae861e8098a65be",
       "version_major": 2,
       "version_minor": 0
      },
      "text/plain": [
       "HBox(children=(FloatProgress(value=0.0), HTML(value='')))"
      ]
     },
     "metadata": {},
     "output_type": "display_data"
    },
    {
     "name": "stdout",
     "output_type": "stream",
     "text": [
      "\n"
     ]
    }
   ],
   "source": [
    "get_LIME_explanation(\"../Test/1.jpg\")"
   ]
  },
  {
   "cell_type": "code",
   "execution_count": null,
   "metadata": {},
   "outputs": [],
   "source": []
  },
  {
   "cell_type": "code",
   "execution_count": null,
   "metadata": {},
   "outputs": [],
   "source": []
  }
 ],
 "metadata": {
  "kernelspec": {
   "display_name": "Python 3",
   "language": "python",
   "name": "python3"
  },
  "language_info": {
   "codemirror_mode": {
    "name": "ipython",
    "version": 3
   },
   "file_extension": ".py",
   "mimetype": "text/x-python",
   "name": "python",
   "nbconvert_exporter": "python",
   "pygments_lexer": "ipython3",
   "version": "3.7.9"
  }
 },
 "nbformat": 4,
 "nbformat_minor": 4
}
