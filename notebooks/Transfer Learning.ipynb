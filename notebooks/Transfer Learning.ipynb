{
 "cells": [
  {
   "cell_type": "code",
   "execution_count": 17,
   "metadata": {},
   "outputs": [],
   "source": [
    "import os,sys,inspect\n",
    "currentdir = os.path.dirname(os.path.abspath(inspect.getfile(inspect.currentframe())))\n",
    "parentdir = os.path.dirname(currentdir)\n",
    "sys.path.insert(0,parentdir) \n",
    "from utils.utils import *\n",
    "import tensorflow as tf\n",
    "from tensorflow.keras.preprocessing.image import ImageDataGenerator\n",
    "from tensorflow.keras.models import Sequential\n",
    "from tensorflow.keras.layers import ZeroPadding2D,GlobalAveragePooling2D,Dense,Conv2D, Convolution2D, Flatten, Dropout, MaxPooling2D, Activation\n",
    "from tensorflow.keras.callbacks import EarlyStopping\n",
    "from tensorflow.keras import Input\n",
    "import numpy as np\n",
    "import cv2\n",
    "import matplotlib.pyplot as plt\n",
    "import tqdm\n",
    "import os\n",
    "from PIL import Image\n",
    "from sklearn.metrics import classification_report, confusion_matrix\n",
    "from sklearn.metrics import accuracy_score \n",
    "from sklearn.model_selection import train_test_split \n",
    "from sklearn.linear_model import LogisticRegression\n",
    "from keras import applications\n",
    "from keras.applications.vgg16 import preprocess_input\n",
    "from keras.applications.imagenet_utils import decode_predictions\n",
    "from keras.models import Model\n",
    "from keras.optimizers import Adam\n",
    "from tensorflow.keras.callbacks import ModelCheckpoint\n",
    "import keras\n",
    "import sklearn.metrics as metrics\n",
    "import seaborn as sns\n",
    "from keras_vggface.vggface import VGGFace"
   ]
  },
  {
   "cell_type": "code",
   "execution_count": 10,
   "metadata": {},
   "outputs": [],
   "source": [
    "data_normal = load_data('../Augmentation Data',['Normal'])\n",
    "data_symptoms = load_data('../Augmentation Data',['Symptoms'])"
   ]
  },
  {
   "cell_type": "code",
   "execution_count": 12,
   "metadata": {},
   "outputs": [],
   "source": [
    "train_data = np.concatenate((np.array(data_normal),\n",
    "                           np.array(data_symptoms)))\n",
    "labels = np.concatenate((np.zeros(6000),np.ones(3600)))"
   ]
  },
  {
   "cell_type": "markdown",
   "metadata": {},
   "source": [
    "## VGG Face"
   ]
  },
  {
   "cell_type": "code",
   "execution_count": 13,
   "metadata": {},
   "outputs": [
    {
     "name": "stdout",
     "output_type": "stream",
     "text": [
      "WARNING:tensorflow:From /Library/Frameworks/Python.framework/Versions/3.7/lib/python3.7/site-packages/keras/backend/tensorflow_backend.py:74: The name tf.get_default_graph is deprecated. Please use tf.compat.v1.get_default_graph instead.\n",
      "\n",
      "WARNING:tensorflow:From /Library/Frameworks/Python.framework/Versions/3.7/lib/python3.7/site-packages/keras/backend/tensorflow_backend.py:517: The name tf.placeholder is deprecated. Please use tf.compat.v1.placeholder instead.\n",
      "\n",
      "WARNING:tensorflow:From /Library/Frameworks/Python.framework/Versions/3.7/lib/python3.7/site-packages/keras/backend/tensorflow_backend.py:4138: The name tf.random_uniform is deprecated. Please use tf.random.uniform instead.\n",
      "\n",
      "WARNING:tensorflow:From /Library/Frameworks/Python.framework/Versions/3.7/lib/python3.7/site-packages/keras/backend/tensorflow_backend.py:3976: The name tf.nn.max_pool is deprecated. Please use tf.nn.max_pool2d instead.\n",
      "\n",
      "WARNING:tensorflow:From /Library/Frameworks/Python.framework/Versions/3.7/lib/python3.7/site-packages/keras/backend/tensorflow_backend.py:174: The name tf.get_default_session is deprecated. Please use tf.compat.v1.get_default_session instead.\n",
      "\n",
      "WARNING:tensorflow:From /Library/Frameworks/Python.framework/Versions/3.7/lib/python3.7/site-packages/keras/backend/tensorflow_backend.py:181: The name tf.ConfigProto is deprecated. Please use tf.compat.v1.ConfigProto instead.\n",
      "\n"
     ]
    }
   ],
   "source": [
    "model = VGGFace(weights='vggface',\n",
    "                        include_top=False,\n",
    "                        input_shape=(200,200,3))"
   ]
  },
  {
   "cell_type": "markdown",
   "metadata": {},
   "source": [
    "## Feature Extractor"
   ]
  },
  {
   "cell_type": "code",
   "execution_count": 14,
   "metadata": {},
   "outputs": [],
   "source": [
    "def create_features(dataset,model):\n",
    "    \n",
    "    train_data = np.expand_dims(dataset,axis=0)\n",
    "    train_data = np.vstack(train_data)\n",
    "    features = model.predict(train_data)\n",
    "    features_flatten = features.reshape((features.shape[0],6*6*512))\n",
    "    \n",
    "    return train_data, features, features_flatten\n",
    "    "
   ]
  },
  {
   "cell_type": "code",
   "execution_count": 16,
   "metadata": {},
   "outputs": [],
   "source": [
    "train_data, features, features_flatten = create_features(train_data,model)"
   ]
  },
  {
   "cell_type": "markdown",
   "metadata": {},
   "source": [
    "## Train Test Split"
   ]
  },
  {
   "cell_type": "code",
   "execution_count": 18,
   "metadata": {},
   "outputs": [],
   "source": [
    "X_train, X_valid, y_train,y_valid = train_test_split(features,labels,test_size=0.2,random_state=42)\n",
    "X_train, X_test, y_train, y_test = train_test_split(X_train,y_train,test_size=0.15,random_state=42)"
   ]
  },
  {
   "cell_type": "markdown",
   "metadata": {},
   "source": [
    "## Model Training"
   ]
  },
  {
   "cell_type": "code",
   "execution_count": 25,
   "metadata": {},
   "outputs": [],
   "source": [
    "checkpointer = ModelCheckpoint(filepath='cnn_best.hdf5',verbose=1,\n",
    "                              save_best_only=True)"
   ]
  },
  {
   "cell_type": "code",
   "execution_count": 46,
   "metadata": {},
   "outputs": [],
   "source": [
    "es = EarlyStopping(monitor='val_loss', mode='min', verbose=2, patience=10)\n",
    "model = Sequential()\n",
    "model.add(Conv2D(32, (3,3), activation='relu', input_shape=(6, 6, 512))) \n",
    "model.add(MaxPooling2D((2, 2)))\n",
    "model.add(Conv2D(128, (3, 3), activation='relu',padding=\"Same\")) \n",
    "model.add(MaxPooling2D((2, 2)))\n",
    "\n",
    "\n",
    "\n",
    "model.add(Flatten())\n",
    "model.add(Dense(64, activation='relu'))\n",
    "model.add(Dropout(0.3))\n",
    "model.add(Dense(32, activation='relu'))\n",
    "model.add(Dropout(0.3))\n",
    "model.add(Dense(2, activation='softmax'))\n",
    "\n",
    "model.compile(optimizer='adam', loss='sparse_categorical_crossentropy', \n",
    "              metrics=['accuracy'])"
   ]
  },
  {
   "cell_type": "code",
   "execution_count": 27,
   "metadata": {},
   "outputs": [
    {
     "name": "stdout",
     "output_type": "stream",
     "text": [
      "Train on 6528 samples, validate on 1920 samples\n",
      "Epoch 1/100\n",
      "\n",
      "Epoch 00001: val_loss improved from inf to 0.14259, saving model to ../model/cnn_best.hdf5\n",
      "6528/6528 - 2s - loss: 0.5309 - acc: 0.8441 - val_loss: 0.1426 - val_acc: 0.9495\n",
      "Epoch 2/100\n",
      "\n",
      "Epoch 00002: val_loss improved from 0.14259 to 0.10413, saving model to ../model/cnn_best.hdf5\n",
      "6528/6528 - 1s - loss: 0.1640 - acc: 0.9350 - val_loss: 0.1041 - val_acc: 0.9552\n",
      "Epoch 3/100\n",
      "\n",
      "Epoch 00003: val_loss improved from 0.10413 to 0.09041, saving model to ../model/cnn_best.hdf5\n",
      "6528/6528 - 1s - loss: 0.0935 - acc: 0.9623 - val_loss: 0.0904 - val_acc: 0.9661\n",
      "Epoch 4/100\n",
      "\n",
      "Epoch 00004: val_loss improved from 0.09041 to 0.08723, saving model to ../model/cnn_best.hdf5\n",
      "6528/6528 - 1s - loss: 0.0677 - acc: 0.9776 - val_loss: 0.0872 - val_acc: 0.9682\n",
      "Epoch 5/100\n",
      "\n",
      "Epoch 00005: val_loss did not improve from 0.08723\n",
      "6528/6528 - 1s - loss: 0.0544 - acc: 0.9830 - val_loss: 0.0961 - val_acc: 0.9745\n",
      "Epoch 6/100\n",
      "\n",
      "Epoch 00006: val_loss did not improve from 0.08723\n",
      "6528/6528 - 1s - loss: 0.0359 - acc: 0.9891 - val_loss: 0.1336 - val_acc: 0.9615\n",
      "Epoch 7/100\n",
      "\n",
      "Epoch 00007: val_loss did not improve from 0.08723\n",
      "6528/6528 - 1s - loss: 0.0227 - acc: 0.9939 - val_loss: 0.1046 - val_acc: 0.9766\n",
      "Epoch 8/100\n",
      "\n",
      "Epoch 00008: val_loss did not improve from 0.08723\n",
      "6528/6528 - 1s - loss: 0.0135 - acc: 0.9951 - val_loss: 0.1357 - val_acc: 0.9745\n",
      "Epoch 9/100\n",
      "\n",
      "Epoch 00009: val_loss did not improve from 0.08723\n",
      "6528/6528 - 1s - loss: 0.0188 - acc: 0.9945 - val_loss: 0.1017 - val_acc: 0.9734\n",
      "Epoch 10/100\n",
      "\n",
      "Epoch 00010: val_loss did not improve from 0.08723\n",
      "6528/6528 - 1s - loss: 0.0309 - acc: 0.9896 - val_loss: 0.1041 - val_acc: 0.9651\n",
      "Epoch 11/100\n",
      "\n",
      "Epoch 00011: val_loss did not improve from 0.08723\n",
      "6528/6528 - 1s - loss: 0.0215 - acc: 0.9931 - val_loss: 0.0882 - val_acc: 0.9734\n",
      "Epoch 12/100\n",
      "\n",
      "Epoch 00012: val_loss improved from 0.08723 to 0.08410, saving model to ../model/cnn_best.hdf5\n",
      "6528/6528 - 1s - loss: 0.0173 - acc: 0.9954 - val_loss: 0.0841 - val_acc: 0.9755\n",
      "Epoch 13/100\n",
      "\n",
      "Epoch 00013: val_loss did not improve from 0.08410\n",
      "6528/6528 - 1s - loss: 0.0138 - acc: 0.9977 - val_loss: 0.1485 - val_acc: 0.9708\n",
      "Epoch 14/100\n",
      "\n",
      "Epoch 00014: val_loss did not improve from 0.08410\n",
      "6528/6528 - 1s - loss: 0.0063 - acc: 0.9980 - val_loss: 0.1630 - val_acc: 0.9740\n",
      "Epoch 15/100\n",
      "\n",
      "Epoch 00015: val_loss did not improve from 0.08410\n",
      "6528/6528 - 1s - loss: 0.0102 - acc: 0.9974 - val_loss: 0.1437 - val_acc: 0.9755\n",
      "Epoch 16/100\n",
      "\n",
      "Epoch 00016: val_loss did not improve from 0.08410\n",
      "6528/6528 - 1s - loss: 0.0032 - acc: 0.9991 - val_loss: 0.2072 - val_acc: 0.9667\n",
      "Epoch 17/100\n",
      "\n",
      "Epoch 00017: val_loss did not improve from 0.08410\n",
      "6528/6528 - 1s - loss: 0.0288 - acc: 0.9922 - val_loss: 0.1723 - val_acc: 0.9755\n",
      "Epoch 18/100\n",
      "\n",
      "Epoch 00018: val_loss did not improve from 0.08410\n",
      "6528/6528 - 1s - loss: 0.0314 - acc: 0.9917 - val_loss: 0.1154 - val_acc: 0.9734\n",
      "Epoch 19/100\n",
      "\n",
      "Epoch 00019: val_loss did not improve from 0.08410\n",
      "6528/6528 - 1s - loss: 0.0102 - acc: 0.9977 - val_loss: 0.2534 - val_acc: 0.9474\n",
      "Epoch 20/100\n",
      "\n",
      "Epoch 00020: val_loss did not improve from 0.08410\n",
      "6528/6528 - 1s - loss: 0.0335 - acc: 0.9928 - val_loss: 0.1477 - val_acc: 0.9807\n",
      "Epoch 21/100\n",
      "\n",
      "Epoch 00021: val_loss did not improve from 0.08410\n",
      "6528/6528 - 1s - loss: 7.1939e-04 - acc: 1.0000 - val_loss: 0.1803 - val_acc: 0.9792\n",
      "Epoch 22/100\n",
      "\n",
      "Epoch 00022: val_loss did not improve from 0.08410\n",
      "6528/6528 - 1s - loss: 5.3841e-04 - acc: 0.9998 - val_loss: 0.2092 - val_acc: 0.9802\n",
      "Epoch 00022: early stopping\n"
     ]
    }
   ],
   "source": [
    "model_history = model.fit(X_train,y_train,\n",
    "                         epochs=100,\n",
    "                         callbacks=[es,checkpointer],\n",
    "                         verbose=2,\n",
    "                         validation_data=(X_valid,y_valid))"
   ]
  },
  {
   "cell_type": "code",
   "execution_count": 23,
   "metadata": {},
   "outputs": [
    {
     "data": {
      "image/png": "[encoded data removed]",
      "text/plain": [
       "<Figure size 720x432 with 1 Axes>"
      ]
     },
     "metadata": {
      "needs_background": "light"
     },
     "output_type": "display_data"
    }
   ],
   "source": [
    "fig, ax = plt.subplots(1, 1, figsize=(10,6))\n",
    "ax.plot(np.sqrt(model_history.history['loss']), 'r', label='train')\n",
    "ax.plot(np.sqrt(model_history.history['val_loss']), 'b' ,label='validation set')\n",
    "ax.set_xlabel(r'Epoch', fontsize=20)\n",
    "ax.set_ylabel(r'Loss', fontsize=20)\n",
    "ax.set_title('Relationship between Epoch and Loss')\n",
    "ax.legend()\n",
    "ax.tick_params(labelsize=20)"
   ]
  },
  {
   "cell_type": "markdown",
   "metadata": {},
   "source": [
    "## Evaluate"
   ]
  },
  {
   "cell_type": "code",
   "execution_count": 30,
   "metadata": {},
   "outputs": [
    {
     "name": "stdout",
     "output_type": "stream",
     "text": [
      "1152/1152 [==============================] - 0s 82us/sample - loss: 0.1565 - acc: 0.9826\n",
      "[0.15652594698876562, 0.9826389]\n"
     ]
    }
   ],
   "source": [
    "print(model.evaluate(X_test,y_test))\n",
    "predictions_ = model.predict(X_test)"
   ]
  },
  {
   "cell_type": "code",
   "execution_count": 31,
   "metadata": {},
   "outputs": [
    {
     "name": "stdout",
     "output_type": "stream",
     "text": [
      "              precision    recall  f1-score   support\n",
      "\n",
      "         0.0       0.98      0.99      0.99       718\n",
      "         1.0       0.98      0.97      0.98       434\n",
      "\n",
      "    accuracy                           0.98      1152\n",
      "   macro avg       0.98      0.98      0.98      1152\n",
      "weighted avg       0.98      0.98      0.98      1152\n",
      "\n",
      "Accuracy: 0.9826388888888888\n"
     ]
    }
   ],
   "source": [
    "predictions = np.argmax(predictions_, axis=1)\n",
    "\n",
    "print(classification_report(y_test,predictions))\n",
    "print(\"Accuracy:\",accuracy_score(y_test,predictions))"
   ]
  },
  {
   "cell_type": "code",
   "execution_count": 37,
   "metadata": {
    "scrolled": true
   },
   "outputs": [
    {
     "data": {
      "image/png": "[encoded data removed]",
      "text/plain": [
       "<Figure size 648x648 with 2 Axes>"
      ]
     },
     "metadata": {
      "needs_background": "light"
     },
     "output_type": "display_data"
    }
   ],
   "source": [
    "cnf_matrix = metrics.confusion_matrix(y_test, predictions)\n",
    "cnf_matrix\n",
    "\n",
    "cm = metrics.confusion_matrix(y_test, predictions)\n",
    "score = accuracy_score(y_test,predictions)\n",
    "\n",
    "plt.figure(figsize=(9,9))\n",
    "ax = sns.heatmap(cm, annot=True, fmt=\".3f\", linewidths=.5, \n",
    "                 square=True,cmap='Blues_r')\n",
    "plt.ylabel('Actual label')\n",
    "plt.xlabel('Predicted label')\n",
    "all_sample_title = 'Accuracy Score : {0}'.format(score)\n",
    "plt.title(all_sample_title, size=15)\n",
    "\n",
    "bottom, top = ax.get_ylim()\n",
    "ax.set_ylim(bottom + 0.5, top - 0.5)\n",
    "\n",
    "plt.show()"
   ]
  },
  {
   "cell_type": "markdown",
   "metadata": {},
   "source": [
    "## Load Model"
   ]
  },
  {
   "cell_type": "code",
   "execution_count": 49,
   "metadata": {},
   "outputs": [
    {
     "name": "stdout",
     "output_type": "stream",
     "text": [
      "WARNING:tensorflow:From /Library/Frameworks/Python.framework/Versions/3.7/lib/python3.7/site-packages/tensorflow/python/ops/init_ops.py:97: calling GlorotUniform.__init__ (from tensorflow.python.ops.init_ops) with dtype is deprecated and will be removed in a future version.\n",
      "Instructions for updating:\n",
      "Call initializer instance with the dtype argument instead of passing it to the constructor\n",
      "WARNING:tensorflow:From /Library/Frameworks/Python.framework/Versions/3.7/lib/python3.7/site-packages/tensorflow/python/ops/init_ops.py:97: calling Zeros.__init__ (from tensorflow.python.ops.init_ops) with dtype is deprecated and will be removed in a future version.\n",
      "Instructions for updating:\n",
      "Call initializer instance with the dtype argument instead of passing it to the constructor\n"
     ]
    }
   ],
   "source": [
    "model = tf.keras.models.load_model('../model/cnn_best.hdf5')"
   ]
  },
  {
   "cell_type": "code",
   "execution_count": null,
   "metadata": {},
   "outputs": [],
   "source": []
  }
 ],
 "metadata": {
  "kernelspec": {
   "display_name": "Python 3",
   "language": "python",
   "name": "python3"
  },
  "language_info": {
   "codemirror_mode": {
    "name": "ipython",
    "version": 3
   },
   "file_extension": ".py",
   "mimetype": "text/x-python",
   "name": "python",
   "nbconvert_exporter": "python",
   "pygments_lexer": "ipython3",
   "version": "3.7.9"
  }
 },
 "nbformat": 4,
 "nbformat_minor": 4
}
