{
 "cells": [
  {
   "cell_type": "code",
   "execution_count": 6,
   "metadata": {},
   "outputs": [],
   "source": [
    "import os\n",
    "import numpy as np\n",
    "import cv2\n",
    "from glob import glob\n",
    "from matplotlib import pyplot\n",
    "from sklearn.utils import shuffle\n",
    "import tensorflow as tf\n",
    "from PIL import Image\n",
    "import imageio\n",
    "import glob\n",
    "import random\n",
    "from scipy import ndimage"
   ]
  },
  {
   "cell_type": "code",
   "execution_count": 7,
   "metadata": {},
   "outputs": [],
   "source": [
    "def load_data(datadir,categories):\n",
    "    \n",
    "    datalength = 0\n",
    "    data = list()\n",
    "    labels = list()\n",
    "    for i,category in enumerate(categories):\n",
    "        path = os.path.join(datadir, category)\n",
    "        path_list = os.listdir(path)\n",
    "        if ('.DS_Store') in path_list:\n",
    "            path_list.remove('.DS_Store')\n",
    "        for img in path_list:\n",
    "            img_ = os.path.join(path,img)\n",
    "            img_ = cv2.imread(img_)\n",
    "            img_ = cv2.cvtColor(img_,cv2.COLOR_BGR2RGB)\n",
    "            data.append(img_)\n",
    "\n",
    "    return np.asarray(data)\n",
    "\n"
   ]
  },
  {
   "cell_type": "code",
   "execution_count": 42,
   "metadata": {},
   "outputs": [],
   "source": [
    "def get_label_augmented_data(symptom,normal):\n",
    "    \"\"\"return train data and label\"\"\"\n",
    "    data_normal = list()\n",
    "    labels = list()\n",
    "    data_symptoms = list()\n",
    "    for image in normal:\n",
    "        image2 = tf.image.flip_left_right(image)\n",
    "        data_normal.append(np.asarray(image))\n",
    "        data_normal.append(np.asarray(image2))\n",
    "        data_normal.append(np.asarray(tf.image.rot90(image,tf.random.uniform(shape=[],\n",
    "                                                                              minval=1,maxval=4,\n",
    "                                                                             dtype=tf.int32))))\n",
    "        data_normal.append(np.asarray(tf.image.random_brightness(image,max_delta=0.3)))\n",
    "        image3 = ndimage.rotate(image,15)\n",
    "        kernel = np.ones((5,5),np.float32)/25\n",
    "        dst = cv2.filter2D(image,-1,kernel)\n",
    "        data_normal.append(image3)\n",
    "        data_normal.append(dst)\n",
    "\n",
    "    for image in symptom:\n",
    "        image2 = tf.image.flip_left_right(image)\n",
    "        data_symptoms.append(np.asarray(image))\n",
    "        data_symptoms.append(np.asarray(image2))\n",
    "        data_symptoms.append(np.asarray(tf.image.rot90(image,tf.random.uniform(shape=[],\n",
    "                                                                              minval=1,maxval=4,\n",
    "                                                                             dtype=tf.int32))))\n",
    "        data_symptoms.append(np.asarray(tf.image.random_brightness(image,max_delta=0.3)))\n",
    "        image3 = ndimage.rotate(image,15)\n",
    "\n",
    "        kernel = np.ones((5,5),np.float32)/25\n",
    "        dst = cv2.filter2D(image,-1,kernel)\n",
    "        data_symptoms.append(image3)\n",
    "        data_symptoms.append(dst)\n",
    "        \n",
    "    train_data = np.concatenate((np.array(data_normal),np.array(data_symptoms)))\n",
    "    labels = np.concatenate((np.zeros(6000),np.ones(3600)))\n",
    "        \n",
    "    return train_data,labels"
   ]
  },
  {
   "cell_type": "code",
   "execution_count": 43,
   "metadata": {},
   "outputs": [],
   "source": [
    "def main():\n",
    "    train_data_symptoms = load_data('../Train/',['Symptoms'])\n",
    "    train_data_normal = load_data('../Train/',['Normal'])\n",
    "    train_data,label = get_label_augmented_data(train_data_symptoms,train_data_normal)\n",
    "    return train_data,label"
   ]
  },
  {
   "cell_type": "code",
   "execution_count": 44,
   "metadata": {},
   "outputs": [],
   "source": [
    "\n",
    "t,l = main()"
   ]
  },
  {
   "cell_type": "code",
   "execution_count": 46,
   "metadata": {},
   "outputs": [
    {
     "data": {
      "text/plain": [
       "(9600,)"
      ]
     },
     "execution_count": 46,
     "metadata": {},
     "output_type": "execute_result"
    }
   ],
   "source": [
    "t.shape"
   ]
  },
  {
   "cell_type": "code",
   "execution_count": null,
   "metadata": {},
   "outputs": [],
   "source": []
  }
 ],
 "metadata": {
  "kernelspec": {
   "display_name": "Python 3",
   "language": "python",
   "name": "python3"
  },
  "language_info": {
   "codemirror_mode": {
    "name": "ipython",
    "version": 3
   },
   "file_extension": ".py",
   "mimetype": "text/x-python",
   "name": "python",
   "nbconvert_exporter": "python",
   "pygments_lexer": "ipython3",
   "version": "3.7.9"
  }
 },
 "nbformat": 4,
 "nbformat_minor": 4
}
